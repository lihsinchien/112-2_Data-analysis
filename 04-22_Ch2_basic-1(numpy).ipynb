{
 "cells": [
  {
   "cell_type": "markdown",
   "id": "9e6370b4-6dab-462e-95bc-00747e377814",
   "metadata": {},
   "source": [
    "## Ch2 Basic Commands\n"
   ]
  },
  {
   "cell_type": "markdown",
   "id": "d185290f-cd0c-4920-993e-2a4a97aee759",
   "metadata": {},
   "source": [
    "Like most programming languages, Python uses functions to perform operations. *fun(input1,input2)*:\n",
    "\n",
    "*fun*: function\n",
    "\n",
    "*input1*,*input2*: inputs or arguments\n",
    "\n"
   ]
  },
  {
   "cell_type": "code",
   "execution_count": 1,
   "id": "ca1635a5-5cfa-407d-8600-251ac9e527bb",
   "metadata": {},
   "outputs": [
    {
     "name": "stdout",
     "output_type": "stream",
     "text": [
      "fit a model with 11 variables\n"
     ]
    }
   ],
   "source": [
    "print('fit a model with', 11, 'variables')"
   ]
  },
  {
   "cell_type": "code",
   "execution_count": 2,
   "id": "1ecc1c84-a6af-4ece-b8d7-c007cac1ef6e",
   "metadata": {},
   "outputs": [
    {
     "name": "stdout",
     "output_type": "stream",
     "text": [
      "Object `print # 查詢 function 用法` not found.\n"
     ]
    }
   ],
   "source": [
    "?print # 查詢 function 用法"
   ]
  },
  {
   "cell_type": "code",
   "execution_count": 3,
   "id": "db1ca6cf-280a-426b-b33c-fa97ead30016",
   "metadata": {},
   "outputs": [
    {
     "data": {
      "text/plain": [
       "8"
      ]
     },
     "execution_count": 3,
     "metadata": {},
     "output_type": "execute_result"
    }
   ],
   "source": [
    "3 + 5"
   ]
  },
  {
   "cell_type": "code",
   "execution_count": 4,
   "id": "398dc3a8-681d-4f30-b7d6-a6e9c5a32b87",
   "metadata": {},
   "outputs": [
    {
     "data": {
      "text/plain": [
       "'hello world'"
      ]
     },
     "execution_count": 4,
     "metadata": {},
     "output_type": "execute_result"
    }
   ],
   "source": [
    "\"hello\" + \" \" + \"world\""
   ]
  },
  {
   "cell_type": "markdown",
   "id": "00c3f186-e0c4-440f-a61c-e4c52bf75eaa",
   "metadata": {},
   "source": [
    "The three most important types of sequences: lists, tuples, and \n",
    "strings\n",
    "\n",
    "以下的 $x$ 為 list."
   ]
  },
  {
   "cell_type": "code",
   "execution_count": 5,
   "id": "84b29c4b-4aef-4213-9a47-e936ef322bad",
   "metadata": {},
   "outputs": [
    {
     "data": {
      "text/plain": [
       "[3, 4, 5]"
      ]
     },
     "execution_count": 5,
     "metadata": {},
     "output_type": "execute_result"
    }
   ],
   "source": [
    "x = [3, 4, 5]\n",
    "x"
   ]
  },
  {
   "cell_type": "code",
   "execution_count": 6,
   "id": "87ed8428-33ee-40c8-9414-03dfc3b64c54",
   "metadata": {},
   "outputs": [
    {
     "data": {
      "text/plain": [
       "[3, 4, 5, 4, 9, 7]"
      ]
     },
     "execution_count": 6,
     "metadata": {},
     "output_type": "execute_result"
    }
   ],
   "source": [
    "y = [4, 9, 7]\n",
    "x + y"
   ]
  },
  {
   "cell_type": "markdown",
   "id": "1ed563c7-195d-4ec1-9258-373f47bb7890",
   "metadata": {},
   "source": [
    "list 裡面可以放任數字、文字等不同種類的 objects。當 x + y 時就只是把 list 內容做疊加。"
   ]
  },
  {
   "cell_type": "markdown",
   "id": "3fb680e3-c966-436c-8ac6-d5eb468fcb56",
   "metadata": {},
   "source": [
    "### 2.3.3 Introduction to Numerical Python\n",
    "\n",
    "*numpy*: library, or package"
   ]
  },
  {
   "cell_type": "markdown",
   "id": "9db3f8e6-27a6-4f91-96e7-4b39468a714b",
   "metadata": {},
   "source": [
    "np.array(): function, 此function 在 numpy 裡"
   ]
  },
  {
   "cell_type": "code",
   "execution_count": 7,
   "id": "f24cd81d",
   "metadata": {},
   "outputs": [],
   "source": [
    "import numpy as np"
   ]
  },
  {
   "cell_type": "code",
   "execution_count": 8,
   "id": "b5a559dd-5f49-4872-95e7-5e7168cedff0",
   "metadata": {},
   "outputs": [
    {
     "data": {
      "text/plain": [
       "array([ 7, 13, 12])"
      ]
     },
     "execution_count": 8,
     "metadata": {},
     "output_type": "execute_result"
    }
   ],
   "source": [
    "x = np.array([3, 4, 5])\n",
    "y = np.array([4, 9, 7])\n",
    "x+y"
   ]
  },
  {
   "cell_type": "code",
   "execution_count": 9,
   "id": "4f5ab661-a79f-4308-acf2-896a50608ecf",
   "metadata": {},
   "outputs": [
    {
     "data": {
      "text/plain": [
       "array([[1, 2],\n",
       "       [3, 4]])"
      ]
     },
     "execution_count": 9,
     "metadata": {},
     "output_type": "execute_result"
    }
   ],
   "source": [
    "x = np.array([[1, 2], [3, 4]])\n",
    "x"
   ]
  },
  {
   "cell_type": "code",
   "execution_count": 10,
   "id": "7ac34e7e-292d-4c18-99cc-31688fb6601f",
   "metadata": {},
   "outputs": [
    {
     "data": {
      "text/plain": [
       "2"
      ]
     },
     "execution_count": 10,
     "metadata": {},
     "output_type": "execute_result"
    }
   ],
   "source": [
    "x.ndim # x 陣列(array) 的維度"
   ]
  },
  {
   "cell_type": "code",
   "execution_count": 11,
   "id": "166dfc6c-483f-4773-b454-31049c6d9e21",
   "metadata": {},
   "outputs": [
    {
     "data": {
      "text/plain": [
       "dtype('int32')"
      ]
     },
     "execution_count": 11,
     "metadata": {},
     "output_type": "execute_result"
    }
   ],
   "source": [
    "x.dtype # x 陣列內是整數 (int)"
   ]
  },
  {
   "cell_type": "code",
   "execution_count": 12,
   "id": "45f3be4d-fe0a-44f7-879d-abb9cfa2f69f",
   "metadata": {},
   "outputs": [
    {
     "data": {
      "text/plain": [
       "dtype('float64')"
      ]
     },
     "execution_count": 12,
     "metadata": {},
     "output_type": "execute_result"
    }
   ],
   "source": [
    "np.array([[1, 2], [3.0, 4]]).dtype"
   ]
  },
  {
   "cell_type": "code",
   "execution_count": 13,
   "id": "ab52d37a-02fe-440f-b403-ca880ed01b86",
   "metadata": {},
   "outputs": [],
   "source": [
    "#np.array?"
   ]
  },
  {
   "cell_type": "code",
   "execution_count": 14,
   "id": "01cff8f1-d81c-4984-a06c-a38d09a9763f",
   "metadata": {},
   "outputs": [
    {
     "data": {
      "text/plain": [
       "dtype('float64')"
      ]
     },
     "execution_count": 14,
     "metadata": {},
     "output_type": "execute_result"
    }
   ],
   "source": [
    "np.array([[1, 2], [3, 4]], float).dtype"
   ]
  },
  {
   "cell_type": "code",
   "execution_count": 15,
   "id": "19187ac2-cf43-46e3-8cf8-f936b8c43cc4",
   "metadata": {},
   "outputs": [
    {
     "data": {
      "text/plain": [
       "(2, 2)"
      ]
     },
     "execution_count": 15,
     "metadata": {},
     "output_type": "execute_result"
    }
   ],
   "source": [
    "x.shape #array 大小"
   ]
  },
  {
   "cell_type": "code",
   "execution_count": 16,
   "id": "07c49684-098e-4211-bc36-795ebfcb0f91",
   "metadata": {},
   "outputs": [
    {
     "data": {
      "text/plain": [
       "10"
      ]
     },
     "execution_count": 16,
     "metadata": {},
     "output_type": "execute_result"
    }
   ],
   "source": [
    "x = np.array([1, 2, 3, 4])\n",
    "x.sum()"
   ]
  },
  {
   "cell_type": "code",
   "execution_count": 17,
   "id": "1a3f4854-b50b-4bf6-829b-2003d7b21d28",
   "metadata": {},
   "outputs": [
    {
     "data": {
      "text/plain": [
       "10"
      ]
     },
     "execution_count": 17,
     "metadata": {},
     "output_type": "execute_result"
    }
   ],
   "source": [
    "x = np.array([1, 2, 3, 4])\n",
    "np.sum(x)"
   ]
  },
  {
   "cell_type": "markdown",
   "id": "cd2e9431-930e-46ec-ba01-8eb96a7c584c",
   "metadata": {},
   "source": [
    "A method is a function that is associated with an object.\n",
    "\n",
    "*sum()*: method for arrays"
   ]
  },
  {
   "cell_type": "code",
   "execution_count": 18,
   "id": "93aa1222-5cfc-4e4f-9fbe-ae3d40a6b285",
   "metadata": {},
   "outputs": [
    {
     "name": "stdout",
     "output_type": "stream",
     "text": [
      "beginning x:\n",
      " [1 2 3 4 5 6]\n",
      "reshaped x:\n",
      " [[1 2 3]\n",
      " [4 5 6]]\n"
     ]
    }
   ],
   "source": [
    "x = np.array([1, 2, 3, 4, 5, 6])\n",
    "print('beginning x:\\n', x)\n",
    "x_reshape = x.reshape((2, 3)) #指定 array 的大小為 (2,3), (2,3): tuple\n",
    "print('reshaped x:\\n', x_reshape)"
   ]
  },
  {
   "cell_type": "code",
   "execution_count": 19,
   "id": "6fe1795f-cd6b-4252-8124-c92246430218",
   "metadata": {},
   "outputs": [
    {
     "data": {
      "text/plain": [
       "1"
      ]
     },
     "execution_count": 19,
     "metadata": {},
     "output_type": "execute_result"
    }
   ],
   "source": [
    "x_reshape[0, 0] # python 的 indexing 是從 0 開始"
   ]
  },
  {
   "cell_type": "code",
   "execution_count": 20,
   "id": "12de4373-53f1-44a6-af77-ec635029dff2",
   "metadata": {},
   "outputs": [
    {
     "data": {
      "text/plain": [
       "6"
      ]
     },
     "execution_count": 20,
     "metadata": {},
     "output_type": "execute_result"
    }
   ],
   "source": [
    "x_reshape[1, 2]"
   ]
  },
  {
   "cell_type": "code",
   "execution_count": 21,
   "id": "a794c1ff-9716-48e0-88b5-25294b8a5ab5",
   "metadata": {},
   "outputs": [
    {
     "name": "stdout",
     "output_type": "stream",
     "text": [
      "x before we modify x_reshape:\n",
      " [1 2 3 4 5 6]\n",
      "x_reshape before we modify x_reshape:\n",
      " [[1 2 3]\n",
      " [4 5 6]]\n",
      "x_reshape after we modify its top left element:\n",
      " [[5 2 3]\n",
      " [4 5 6]]\n",
      "x after we modify top left element of x_reshape:\n",
      " [5 2 3 4 5 6]\n"
     ]
    }
   ],
   "source": [
    "print('x before we modify x_reshape:\\n', x)\n",
    "print('x_reshape before we modify x_reshape:\\n', x_reshape)\n",
    "x_reshape[0, 0] = 5\n",
    "print('x_reshape after we modify its top left element:\\n',\n",
    "x_reshape)\n",
    "print('x after we modify top left element of x_reshape:\\n', x)"
   ]
  },
  {
   "cell_type": "markdown",
   "id": "acee0989-310e-4422-9cc3-bd79c36017d1",
   "metadata": {},
   "source": [
    "變更 x_reshape 的內容, x 的內容會一起改變:"
   ]
  },
  {
   "cell_type": "markdown",
   "id": "3352fa81-0679-4a75-ae95-cde47969017e",
   "metadata": {},
   "source": [
    "tuple 的元素值不可以修改，也不可以刪除。"
   ]
  },
  {
   "cell_type": "code",
   "execution_count": 22,
   "id": "6dfc7110-5077-49ac-82cb-748e74aa282d",
   "metadata": {},
   "outputs": [
    {
     "ename": "TypeError",
     "evalue": "'tuple' object does not support item assignment",
     "output_type": "error",
     "traceback": [
      "\u001b[1;31m---------------------------------------------------------------------------\u001b[0m",
      "\u001b[1;31mTypeError\u001b[0m                                 Traceback (most recent call last)",
      "\u001b[1;32m<ipython-input-22-1bcb6270a2d5>\u001b[0m in \u001b[0;36m<module>\u001b[1;34m\u001b[0m\n\u001b[0;32m      1\u001b[0m \u001b[0mmy_tuple\u001b[0m \u001b[1;33m=\u001b[0m \u001b[1;33m(\u001b[0m\u001b[1;36m3\u001b[0m\u001b[1;33m,\u001b[0m \u001b[1;36m4\u001b[0m\u001b[1;33m,\u001b[0m \u001b[1;36m5\u001b[0m\u001b[1;33m)\u001b[0m\u001b[1;33m\u001b[0m\u001b[1;33m\u001b[0m\u001b[0m\n\u001b[1;32m----> 2\u001b[1;33m \u001b[0mmy_tuple\u001b[0m\u001b[1;33m[\u001b[0m\u001b[1;36m0\u001b[0m\u001b[1;33m]\u001b[0m \u001b[1;33m=\u001b[0m \u001b[1;36m2\u001b[0m\u001b[1;33m\u001b[0m\u001b[1;33m\u001b[0m\u001b[0m\n\u001b[0m",
      "\u001b[1;31mTypeError\u001b[0m: 'tuple' object does not support item assignment"
     ]
    }
   ],
   "source": [
    "my_tuple = (3, 4, 5)\n",
    "my_tuple[0] = 2"
   ]
  },
  {
   "cell_type": "code",
   "execution_count": 23,
   "id": "ba0b2eae-bd07-4db2-9ed2-6021a06c73f0",
   "metadata": {},
   "outputs": [
    {
     "data": {
      "text/plain": [
       "((2, 3),\n",
       " 2,\n",
       " array([[5, 4],\n",
       "        [2, 5],\n",
       "        [3, 6]]))"
      ]
     },
     "execution_count": 23,
     "metadata": {},
     "output_type": "execute_result"
    }
   ],
   "source": [
    "x_reshape.shape , x_reshape.ndim , x_reshape.T #T: 矩陣轉置(transpose)"
   ]
  },
  {
   "cell_type": "code",
   "execution_count": 24,
   "id": "f5fb90f5-0c83-49d1-94e0-cfdd89bd257f",
   "metadata": {},
   "outputs": [
    {
     "data": {
      "text/plain": [
       "array([2.23606798, 1.41421356, 1.73205081, 2.        , 2.23606798,\n",
       "       2.44948974])"
      ]
     },
     "execution_count": 24,
     "metadata": {},
     "output_type": "execute_result"
    }
   ],
   "source": [
    "np.sqrt(x)"
   ]
  },
  {
   "cell_type": "code",
   "execution_count": 25,
   "id": "9ca9a531-676e-4d75-819c-7ca16b8c39d6",
   "metadata": {},
   "outputs": [
    {
     "data": {
      "text/plain": [
       "array([25,  4,  9, 16, 25, 36], dtype=int32)"
      ]
     },
     "execution_count": 25,
     "metadata": {},
     "output_type": "execute_result"
    }
   ],
   "source": [
    "x**2"
   ]
  },
  {
   "cell_type": "code",
   "execution_count": 26,
   "id": "0cf2a4e4-f80f-4e97-97d5-d650c695fdb7",
   "metadata": {},
   "outputs": [
    {
     "data": {
      "text/plain": [
       "array([2.23606798, 1.41421356, 1.73205081, 2.        , 2.23606798,\n",
       "       2.44948974])"
      ]
     },
     "execution_count": 26,
     "metadata": {},
     "output_type": "execute_result"
    }
   ],
   "source": [
    "x**0.5"
   ]
  },
  {
   "cell_type": "markdown",
   "id": "00a6937c-39b0-4033-9a8e-6b111e71c5bd",
   "metadata": {},
   "source": [
    "*np.random.normal()*: 生成常態分配隨機樣本 (vector)"
   ]
  },
  {
   "cell_type": "code",
   "execution_count": 27,
   "id": "b2e1eb3a-984d-495c-82de-18621237d90f",
   "metadata": {},
   "outputs": [
    {
     "data": {
      "text/plain": [
       "array([-0.00543974, -1.22701087, -0.11634913,  0.13155274, -0.54260377,\n",
       "       -0.00541627,  0.51747349,  0.81865119,  1.37458952, -0.21448698,\n",
       "        0.87810006, -0.25575754, -1.78243503,  0.57988684,  0.64793816,\n",
       "       -0.27912516, -0.10637501,  0.6473766 , -0.26845011,  1.26847919,\n",
       "       -1.71041692, -0.51704351,  1.78591819, -0.02062943, -0.00307936,\n",
       "       -1.49555329,  1.23731935,  1.33003453, -1.68260325,  2.31789078,\n",
       "        0.22079605,  0.42447057, -0.49701371, -1.02483234, -1.9724194 ,\n",
       "        0.3838478 ,  0.2198846 ,  0.88346799,  0.4416866 , -1.20855638,\n",
       "       -0.10266234,  0.29342336, -1.26665111, -0.30061413,  0.49257255,\n",
       "       -0.59938876,  0.70049738, -1.08786545, -0.93705054,  0.50956231])"
      ]
     },
     "execution_count": 27,
     "metadata": {},
     "output_type": "execute_result"
    }
   ],
   "source": [
    "#np.random.normal?\n",
    "x = np.random.normal(size=50)\n",
    "x"
   ]
  },
  {
   "cell_type": "code",
   "execution_count": 28,
   "id": "70d6ca21-2a91-4726-805a-8f934342187f",
   "metadata": {},
   "outputs": [],
   "source": [
    "y = x + np.random.normal(loc=50, scale=1, size=50)"
   ]
  },
  {
   "cell_type": "code",
   "execution_count": 29,
   "id": "3202b8ac-a44a-4dd7-bb58-fa5d17171d9d",
   "metadata": {},
   "outputs": [
    {
     "data": {
      "text/plain": [
       "array([[1.        , 0.75851923],\n",
       "       [0.75851923, 1.        ]])"
      ]
     },
     "execution_count": 29,
     "metadata": {},
     "output_type": "execute_result"
    }
   ],
   "source": [
    "np.corrcoef(x, y) # 計算 x,y 的相關係數 (Pearson correlation coefficients)"
   ]
  },
  {
   "cell_type": "code",
   "execution_count": 30,
   "id": "a61c680e-e728-4a35-b6cd-3fc4f9ce5b25",
   "metadata": {},
   "outputs": [
    {
     "name": "stdout",
     "output_type": "stream",
     "text": [
      "[ 0.7018435  -1.73740097]\n",
      "[-7.32475751  4.67928083]\n"
     ]
    }
   ],
   "source": [
    "print(np.random.normal(scale=5, size=2))\n",
    "print(np.random.normal(scale=5, size=2)) # 每次生成出的樣本不同"
   ]
  },
  {
   "cell_type": "code",
   "execution_count": 31,
   "id": "f33bee65-9633-4991-9beb-3be486d87202",
   "metadata": {},
   "outputs": [
    {
     "name": "stdout",
     "output_type": "stream",
     "text": [
      "[ 4.09482632 -1.07485605]\n",
      "[ 4.09482632 -1.07485605]\n"
     ]
    }
   ],
   "source": [
    "#設定 random seed，相同的 seed 下，生成的樣本相同。 np.random.default_rng()\n",
    "rng = np.random.default_rng (1303)\n",
    "print(rng.normal(scale=5, size=2))\n",
    "rng2 = np.random.default_rng (1303)\n",
    "print(rng2.normal(scale=5, size=2))"
   ]
  },
  {
   "cell_type": "code",
   "execution_count": 32,
   "id": "5b4f3d81-8aa2-4636-a84e-114e86b3654a",
   "metadata": {},
   "outputs": [
    {
     "data": {
      "text/plain": [
       "(-0.1126795190952861, -0.1126795190952861)"
      ]
     },
     "execution_count": 32,
     "metadata": {},
     "output_type": "execute_result"
    }
   ],
   "source": [
    "rng = np.random.default_rng(3)\n",
    "y = rng.standard_normal(10) #標準常態分配隨機樣本，樣本數 10\n",
    "np.mean(y), y.mean() #樣本平均"
   ]
  },
  {
   "cell_type": "code",
   "execution_count": 33,
   "id": "5f04c14d-7c13-42ea-9b67-6563a86d7525",
   "metadata": {},
   "outputs": [
    {
     "data": {
      "text/plain": [
       "(2.7243406406465125, 2.7243406406465125, 2.7243406406465125)"
      ]
     },
     "execution_count": 33,
     "metadata": {},
     "output_type": "execute_result"
    }
   ],
   "source": [
    "np.var(y), y.var(), np.mean((y - y.mean())**2) #樣本變異數"
   ]
  },
  {
   "cell_type": "code",
   "execution_count": 34,
   "id": "bcf8a4e2-6df9-4c54-8064-90da73974543",
   "metadata": {},
   "outputs": [
    {
     "data": {
      "text/plain": [
       "(1.6505576756498128, 1.6505576756498128)"
      ]
     },
     "execution_count": 34,
     "metadata": {},
     "output_type": "execute_result"
    }
   ],
   "source": [
    "np.sqrt(np.var(y)), np.std(y) #樣本標準差"
   ]
  },
  {
   "cell_type": "code",
   "execution_count": 35,
   "id": "310a2fb2-56e7-41e0-9f6e-0756e90a86a9",
   "metadata": {},
   "outputs": [
    {
     "data": {
      "text/plain": [
       "array([[ 0.22578661, -0.35263079, -0.28128742],\n",
       "       [-0.66804635, -1.05515055, -0.39080098],\n",
       "       [ 0.48194539, -0.23855361,  0.9577587 ],\n",
       "       [-0.19980213,  0.02425957,  1.54582085],\n",
       "       [ 0.54510552, -0.50522874, -0.18283897],\n",
       "       [ 0.54052513,  1.93508803, -0.26962033],\n",
       "       [-0.24355868,  1.0023136 , -0.88645994],\n",
       "       [-0.29172023,  0.88253897,  0.58035002],\n",
       "       [ 0.0915167 ,  0.67010435, -2.82816231],\n",
       "       [ 1.02130682, -0.95964476, -1.66861984]])"
      ]
     },
     "execution_count": 35,
     "metadata": {},
     "output_type": "execute_result"
    }
   ],
   "source": [
    "X = rng.standard_normal((10, 3)) #常態隨機樣本，array 大小 (10,3)\n",
    "X"
   ]
  },
  {
   "cell_type": "code",
   "execution_count": 36,
   "id": "43038c6a-7d2d-4d06-aeeb-84034a5e5e88",
   "metadata": {},
   "outputs": [
    {
     "data": {
      "text/plain": [
       "array([ 0.15030588,  0.14030961, -0.34238602])"
      ]
     },
     "execution_count": 36,
     "metadata": {},
     "output_type": "execute_result"
    }
   ],
   "source": [
    "X.mean(axis=0) # 固定 column, 把 raw 取平均, 因此為長度 3 的向量 (共 3 個 column, 故做 3 次 mean)"
   ]
  },
  {
   "cell_type": "code",
   "execution_count": 37,
   "id": "0f495193-208f-4dbc-8dda-64cff10d0fa5",
   "metadata": {},
   "outputs": [
    {
     "data": {
      "text/plain": [
       "array([ 0.15030588,  0.14030961, -0.34238602])"
      ]
     },
     "execution_count": 37,
     "metadata": {},
     "output_type": "execute_result"
    }
   ],
   "source": [
    "X.mean(0)"
   ]
  }
 ],
 "metadata": {
  "celltoolbar": "Raw Cell Format",
  "kernelspec": {
   "display_name": "Python 3",
   "language": "python",
   "name": "python3"
  },
  "language_info": {
   "codemirror_mode": {
    "name": "ipython",
    "version": 3
   },
   "file_extension": ".py",
   "mimetype": "text/x-python",
   "name": "python",
   "nbconvert_exporter": "python",
   "pygments_lexer": "ipython3",
   "version": "3.8.8"
  }
 },
 "nbformat": 4,
 "nbformat_minor": 5
}
