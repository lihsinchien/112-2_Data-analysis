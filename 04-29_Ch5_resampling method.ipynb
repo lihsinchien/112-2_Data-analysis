{
 "cells": [
  {
   "cell_type": "markdown",
   "id": "e1659b0e-9cb2-47b9-b1cc-5daf1de38b0b",
   "metadata": {},
   "source": [
    "## Ch5. Resampling methods\n",
    "\n",
    "Placing most of the imports:"
   ]
  },
  {
   "cell_type": "code",
   "execution_count": 1,
   "id": "b8291e97-c171-4ab6-b17f-4cc340d63971",
   "metadata": {},
   "outputs": [],
   "source": [
    "import numpy as np\n",
    "import statsmodels.api as sm # OLS\n",
    "from ISLP import load_data\n",
    "from ISLP.models import (ModelSpec as MS, summarize, poly)\n",
    "from sklearn.model_selection import train_test_split"
   ]
  },
  {
   "cell_type": "markdown",
   "id": "3d316474-25dc-4703-a1ad-a33cd164f210",
   "metadata": {},
   "source": [
    "New imports needed for this lab:"
   ]
  },
  {
   "cell_type": "code",
   "execution_count": 2,
   "id": "52dec0f2-e522-47cb-a88d-717e215ba327",
   "metadata": {},
   "outputs": [],
   "source": [
    "from functools import partial\n",
    "from sklearn.model_selection import (cross_validate, KFold, ShuffleSplit)\n",
    "from sklearn.base import clone\n",
    "from ISLP.models import sklearn_sm"
   ]
  },
  {
   "cell_type": "markdown",
   "id": "937ac36d-9a8d-4e33-a744-1cf710d6f4c7",
   "metadata": {},
   "source": [
    "### The Validation Set Approach\n",
    "\n",
    "使用 Auto 資料, 將資料隨機分成 training (1/2) + validation (1/2) "
   ]
  },
  {
   "cell_type": "code",
   "execution_count": 3,
   "id": "2d1e5677-a410-418d-8b55-2799a17c5bb3",
   "metadata": {},
   "outputs": [],
   "source": [
    "Auto = load_data('Auto') # ISLP 裡面的資料\n",
    "Auto_train , Auto_valid = train_test_split(Auto ,   #train_test_splint: 來源為 sklern.model_selection\n",
    "                                        test_size=196,\n",
    "                                        random_state=0) #random_state=0: 固定 seed"
   ]
  },
  {
   "cell_type": "markdown",
   "id": "78af3d41-5770-4445-8407-a91b2436f2d1",
   "metadata": {},
   "source": [
    "Fit a linear regression using training set: "
   ]
  },
  {
   "cell_type": "code",
   "execution_count": 4,
   "id": "b75c0777-5462-417e-bd4c-eb7c83ef23e7",
   "metadata": {},
   "outputs": [],
   "source": [
    "hp_mm = MS(['horsepower'])\n",
    "X_train = hp_mm.fit_transform(Auto_train) #fit, transform 形成 design matrix, 放入 regression model\n",
    "y_train = Auto_train['mpg']\n",
    "model = sm.OLS(y_train , X_train)\n",
    "results = model.fit()"
   ]
  },
  {
   "cell_type": "code",
   "execution_count": 5,
   "id": "ec67030d-dead-48b9-a600-a559954fdd34",
   "metadata": {},
   "outputs": [
    {
     "data": {
      "text/plain": [
       "23.61661706966988"
      ]
     },
     "execution_count": 5,
     "metadata": {},
     "output_type": "execute_result"
    }
   ],
   "source": [
    "X_valid = hp_mm.transform(Auto_valid)\n",
    "y_valid = Auto_valid['mpg']\n",
    "valid_pred = results.predict(X_valid)\n",
    "np.mean((y_valid - valid_pred)**2)"
   ]
  },
  {
   "cell_type": "code",
   "execution_count": 6,
   "id": "f7ff3d93-dbcd-4afd-aab4-1c15098983b8",
   "metadata": {},
   "outputs": [],
   "source": [
    "def evalMSE(terms ,    #要放進來的變數名稱\n",
    "            response , #y 變數名稱\n",
    "            train ,    #training data\n",
    "            test):     #test data\n",
    "\n",
    "    mm = MS(terms)\n",
    "    X_train = mm.fit_transform(train)\n",
    "    y_train = train[response]\n",
    "    X_test = mm.transform(test)\n",
    "    y_test = test[response]\n",
    "    results = sm.OLS(y_train , X_train).fit()\n",
    "    test_pred = results.predict(X_test)\n",
    "    return np.mean((y_test - test_pred)**2)"
   ]
  },
  {
   "cell_type": "code",
   "execution_count": 7,
   "id": "bbe155cc-6560-41f9-b8c5-dd25eca054ab",
   "metadata": {},
   "outputs": [
    {
     "data": {
      "text/plain": [
       "array([23.61661707, 18.76303135, 18.79694163])"
      ]
     },
     "execution_count": 7,
     "metadata": {},
     "output_type": "execute_result"
    }
   ],
   "source": [
    "MSE = np.zeros(3)\n",
    "for idx , degree in enumerate(range(1, 4)):\n",
    "    MSE[idx] = evalMSE([poly('horsepower', degree)],\n",
    "                        'mpg',\n",
    "                        Auto_train ,\n",
    "                        Auto_valid)\n",
    "MSE"
   ]
  },
  {
   "cell_type": "code",
   "execution_count": 8,
   "id": "fd2090fe-3faa-411e-9dd2-6a358573be29",
   "metadata": {},
   "outputs": [
    {
     "data": {
      "text/plain": [
       "array([20.75540796, 16.94510676, 16.97437833])"
      ]
     },
     "execution_count": 8,
     "metadata": {},
     "output_type": "execute_result"
    }
   ],
   "source": [
    "Auto_train , Auto_valid = train_test_split(Auto ,\n",
    "                                            test_size=196,\n",
    "                                            random_state=3)\n",
    "MSE = np.zeros(3)\n",
    "for idx , degree in enumerate(range(1, 4)):\n",
    "    MSE[idx] = evalMSE([poly('horsepower', degree)],\n",
    "                        'mpg',\n",
    "                        Auto_train ,\n",
    "                        Auto_valid)\n",
    "MSE"
   ]
  }
 ],
 "metadata": {
  "kernelspec": {
   "display_name": "Python 3 (ipykernel)",
   "language": "python",
   "name": "python3"
  },
  "language_info": {
   "codemirror_mode": {
    "name": "ipython",
    "version": 3
   },
   "file_extension": ".py",
   "mimetype": "text/x-python",
   "name": "python",
   "nbconvert_exporter": "python",
   "pygments_lexer": "ipython3",
   "version": "3.11.7"
  }
 },
 "nbformat": 4,
 "nbformat_minor": 5
}
