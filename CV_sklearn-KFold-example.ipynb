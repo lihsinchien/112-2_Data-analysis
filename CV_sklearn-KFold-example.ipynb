{
 "cells": [
  {
   "cell_type": "markdown",
   "id": "7e289aa0-5092-4399-94c3-1855532c23d2",
   "metadata": {},
   "source": [
    "## Cross validation 資料分群: 使用 sklearn 套件的 KFold 函數\n",
    "\n",
    "參考網址: https://zhuanlan.zhihu.com/p/250253050"
   ]
  },
  {
   "cell_type": "code",
   "execution_count": 1,
   "id": "383e8b6e-9fd8-42d2-b14c-bd6482b3a182",
   "metadata": {},
   "outputs": [
    {
     "data": {
      "text/plain": [
       "array([[21, 60],\n",
       "       [40, 90],\n",
       "       [46, 17],\n",
       "       [98,  9],\n",
       "       [48,  4],\n",
       "       [22, 30],\n",
       "       [17, 69],\n",
       "       [74, 81],\n",
       "       [45,  6],\n",
       "       [96, 66]])"
      ]
     },
     "execution_count": 1,
     "metadata": {},
     "output_type": "execute_result"
    }
   ],
   "source": [
    "import numpy as np\n",
    "from sklearn.model_selection import KFold\n",
    "\n",
    "X = np.random.randint(1,100,20).reshape((10,2))\n",
    "X\n"
   ]
  },
  {
   "cell_type": "code",
   "execution_count": 2,
   "id": "829856c3-eb35-4806-82c0-56ae0eff1860",
   "metadata": {},
   "outputs": [
    {
     "data": {
      "text/plain": [
       "KFold(n_splits=5, random_state=None, shuffle=False)"
      ]
     },
     "execution_count": 2,
     "metadata": {},
     "output_type": "execute_result"
    }
   ],
   "source": [
    "kf = KFold(n_splits=5)\n",
    "kf"
   ]
  },
  {
   "cell_type": "code",
   "execution_count": 3,
   "id": "3c1a4115-b51b-4774-ab62-6d269bd25cf8",
   "metadata": {},
   "outputs": [
    {
     "name": "stdout",
     "output_type": "stream",
     "text": [
      "[2 3 4 5 6 7 8 9] [0 1]\n",
      "[0 1 4 5 6 7 8 9] [2 3]\n",
      "[0 1 2 3 6 7 8 9] [4 5]\n",
      "[0 1 2 3 4 5 8 9] [6 7]\n",
      "[0 1 2 3 4 5 6 7] [8 9]\n"
     ]
    }
   ],
   "source": [
    "for X_train,X_test in kf.split(X):\n",
    "    print(X_train,X_test)"
   ]
  },
  {
   "cell_type": "code",
   "execution_count": 4,
   "id": "aaf84ada-2390-46bc-a19b-def1c6be9968",
   "metadata": {},
   "outputs": [
    {
     "name": "stdout",
     "output_type": "stream",
     "text": [
      "[[46 17]\n",
      " [98  9]\n",
      " [48  4]\n",
      " [22 30]\n",
      " [17 69]\n",
      " [74 81]\n",
      " [45  6]\n",
      " [96 66]] [[21 60]\n",
      " [40 90]]\n",
      "[[21 60]\n",
      " [40 90]\n",
      " [48  4]\n",
      " [22 30]\n",
      " [17 69]\n",
      " [74 81]\n",
      " [45  6]\n",
      " [96 66]] [[46 17]\n",
      " [98  9]]\n",
      "[[21 60]\n",
      " [40 90]\n",
      " [46 17]\n",
      " [98  9]\n",
      " [17 69]\n",
      " [74 81]\n",
      " [45  6]\n",
      " [96 66]] [[48  4]\n",
      " [22 30]]\n",
      "[[21 60]\n",
      " [40 90]\n",
      " [46 17]\n",
      " [98  9]\n",
      " [48  4]\n",
      " [22 30]\n",
      " [45  6]\n",
      " [96 66]] [[17 69]\n",
      " [74 81]]\n",
      "[[21 60]\n",
      " [40 90]\n",
      " [46 17]\n",
      " [98  9]\n",
      " [48  4]\n",
      " [22 30]\n",
      " [17 69]\n",
      " [74 81]] [[45  6]\n",
      " [96 66]]\n"
     ]
    }
   ],
   "source": [
    "for X_train_i,X_test_i in kf.split(X):\n",
    "    print(X[X_train_i],X[X_test_i])"
   ]
  }
 ],
 "metadata": {
  "kernelspec": {
   "display_name": "Python 3 (ipykernel)",
   "language": "python",
   "name": "python3"
  },
  "language_info": {
   "codemirror_mode": {
    "name": "ipython",
    "version": 3
   },
   "file_extension": ".py",
   "mimetype": "text/x-python",
   "name": "python",
   "nbconvert_exporter": "python",
   "pygments_lexer": "ipython3",
   "version": "3.10.13"
  }
 },
 "nbformat": 4,
 "nbformat_minor": 5
}
