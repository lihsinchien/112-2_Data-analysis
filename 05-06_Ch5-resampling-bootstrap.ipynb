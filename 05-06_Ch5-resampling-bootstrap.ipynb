{
 "cells": [
  {
   "cell_type": "code",
   "execution_count": 1,
   "id": "c84766e4-1d13-4fba-9db5-ab0b3497ff4a",
   "metadata": {},
   "outputs": [],
   "source": [
    "import numpy as np\n",
    "import statsmodels.api as sm\n",
    "from ISLP import load_data\n",
    "#from ISLP.models import (ModelSpec as MS,\n",
    "#                         summarize,\n",
    "#                         poly)\n",
    "#from sklearn.model_selection import train_test_split\n",
    "#from functools import partial\n",
    "#from sklearn.model_selection import \\\n",
    "#     (cross_validate,\n",
    "#      KFold,\n",
    "#      ShuffleSplit)\n",
    "#from sklearn.base import clone\n",
    "#from ISLP.models import sklearn_sm"
   ]
  },
  {
   "cell_type": "code",
   "execution_count": 2,
   "id": "0c369632-bea8-4b22-9b67-18c91bd5ef1b",
   "metadata": {},
   "outputs": [],
   "source": [
    "Portfolio = load_data('Portfolio') #ISLP中的資料\n",
    "def alpha_func(D, idx):\n",
    "   cov_ = np.cov(D[['X','Y']].loc[idx], rowvar=False) #numpy\n",
    "   return ((cov_[1,1] - cov_[0,1]) /\n",
    "           (cov_[0,0]+cov_[1,1]-2*cov_[0,1]))\n"
   ]
  },
  {
   "cell_type": "code",
   "execution_count": 3,
   "id": "03cedea8-c7e5-4dbd-8ec6-f0008c69e4ad",
   "metadata": {},
   "outputs": [
    {
     "data": {
      "text/plain": [
       "0.57583207459283"
      ]
     },
     "execution_count": 3,
     "metadata": {},
     "output_type": "execute_result"
    }
   ],
   "source": [
    "alpha_func(Portfolio, range(100)) # 用全部 100 個樣本估計 alpha"
   ]
  },
  {
   "cell_type": "code",
   "execution_count": 4,
   "id": "6a22a148-112b-4ad1-b3b0-c0476acb0ed2",
   "metadata": {},
   "outputs": [
    {
     "data": {
      "text/plain": [
       "0.6074452469619004"
      ]
     },
     "execution_count": 4,
     "metadata": {},
     "output_type": "execute_result"
    }
   ],
   "source": [
    "rng = np.random.default_rng(0) #設定 seed\n",
    "alpha_func(Portfolio,           #使用 Portfolia資料\n",
    "           rng.choice(100,      #隨機從 0~99 \n",
    "                      100,      #抽取 100 個樣本\n",
    "                      replace=True)) #取後放回"
   ]
  },
  {
   "cell_type": "code",
   "execution_count": 5,
   "id": "2b31c7c1-2e22-45ca-85c5-272cf24a803f",
   "metadata": {},
   "outputs": [],
   "source": [
    "def boot_SE(func,     #計算公式\n",
    "            D,        #資料\n",
    "            n=None,   #樣本數\n",
    "            B=1000,   #bootstrap樣本數\n",
    "            seed=0):  #設定 seed\n",
    "    rng = np.random.default_rng(seed)\n",
    "    first_, second_ = 0, 0\n",
    "    n = n or D.shape[0]\n",
    "    for _ in range(B):\n",
    "        idx = rng.choice(D.index,\n",
    "                         n,\n",
    "                         replace=True)\n",
    "        value = func(D, idx)\n",
    "        first_ += value # alpha 值的加總\n",
    "        second_ += value**2 #alpha^2的加總\n",
    "    return np.sqrt(second_ / B - (first_ / B)**2) #sample se"
   ]
  },
  {
   "cell_type": "code",
   "execution_count": 6,
   "id": "0274bd57-830a-47c4-9586-f9759dbefbdf",
   "metadata": {},
   "outputs": [
    {
     "data": {
      "text/plain": [
       "0.09118176521277699"
      ]
     },
     "execution_count": 6,
     "metadata": {},
     "output_type": "execute_result"
    }
   ],
   "source": [
    "alpha_SE = boot_SE(alpha_func,\n",
    "                   Portfolio,\n",
    "                   B=1000,\n",
    "                   seed=0)\n",
    "alpha_SE"
   ]
  },
  {
   "cell_type": "code",
   "execution_count": 7,
   "id": "a8e2e57e-1d6f-4685-8f83-55bc3d3f0a77",
   "metadata": {},
   "outputs": [
    {
     "data": {
      "text/plain": [
       "(100, 2)"
      ]
     },
     "execution_count": 7,
     "metadata": {},
     "output_type": "execute_result"
    }
   ],
   "source": [
    "Portfolio[0:5]\n",
    "Portfolio.shape"
   ]
  },
  {
   "cell_type": "code",
   "execution_count": null,
   "id": "c63738bf-726c-4c55-b845-339bbee49f19",
   "metadata": {},
   "outputs": [],
   "source": []
  }
 ],
 "metadata": {
  "kernelspec": {
   "display_name": "Python 3 (ipykernel)",
   "language": "python",
   "name": "python3"
  },
  "language_info": {
   "codemirror_mode": {
    "name": "ipython",
    "version": 3
   },
   "file_extension": ".py",
   "mimetype": "text/x-python",
   "name": "python",
   "nbconvert_exporter": "python",
   "pygments_lexer": "ipython3",
   "version": "3.11.7"
  }
 },
 "nbformat": 4,
 "nbformat_minor": 5
}
